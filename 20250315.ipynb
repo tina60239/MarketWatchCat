{
  "cells": [
    {
      "cell_type": "markdown",
      "metadata": {
        "id": "view-in-github",
        "colab_type": "text"
      },
      "source": [
        "<a href=\"https://colab.research.google.com/github/tina60239/MarketWatchCat/blob/main/20250315.ipynb\" target=\"_parent\"><img src=\"https://colab.research.google.com/assets/colab-badge.svg\" alt=\"Open In Colab\"/></a>"
      ]
    },
    {
      "cell_type": "code",
      "execution_count": null,
      "id": "8d06d4a7-5b0d-4d26-8d5a-1844dbe4bcf0",
      "metadata": {
        "id": "8d06d4a7-5b0d-4d26-8d5a-1844dbe4bcf0",
        "outputId": "7875f5ea-6fef-4217-8afe-4bb55e80090c"
      },
      "outputs": [
        {
          "data": {
            "text/plain": [
              "<Response [200]>"
            ]
          },
          "execution_count": 1,
          "metadata": {},
          "output_type": "execute_result"
        }
      ],
      "source": [
        "import requests\n",
        "import pandas as pd\n",
        "url = \"https://www.twse.com.tw/rwd/zh/afterTrading/MI_INDEX\"\n",
        "payload = {\n",
        "    \"date\": \"20250314\",\n",
        "    \"type\": \"ALLBUT0999\",\n",
        "    \"response\": \"json\"\n",
        "}\n",
        "res = requests.get(url, params = payload)\n",
        "res"
      ]
    },
    {
      "cell_type": "code",
      "execution_count": null,
      "id": "8385faaf-07e9-486e-b2cf-b97e8b531a7c",
      "metadata": {
        "id": "8385faaf-07e9-486e-b2cf-b97e8b531a7c",
        "outputId": "74982b71-580c-4e8e-de3b-ebe6f3f1002c"
      },
      "outputs": [
        {
          "data": {
            "text/html": [
              "<div>\n",
              "<style scoped>\n",
              "    .dataframe tbody tr th:only-of-type {\n",
              "        vertical-align: middle;\n",
              "    }\n",
              "\n",
              "    .dataframe tbody tr th {\n",
              "        vertical-align: top;\n",
              "    }\n",
              "\n",
              "    .dataframe thead th {\n",
              "        text-align: right;\n",
              "    }\n",
              "</style>\n",
              "<table border=\"1\" class=\"dataframe\">\n",
              "  <thead>\n",
              "    <tr style=\"text-align: right;\">\n",
              "      <th></th>\n",
              "      <th>日期</th>\n",
              "      <th>證券代號</th>\n",
              "      <th>成交股數</th>\n",
              "      <th>開盤價</th>\n",
              "      <th>最高價</th>\n",
              "      <th>最低價</th>\n",
              "      <th>收盤價</th>\n",
              "    </tr>\n",
              "  </thead>\n",
              "  <tbody>\n",
              "    <tr>\n",
              "      <th>0</th>\n",
              "      <td>20250314</td>\n",
              "      <td>0050</td>\n",
              "      <td>14434475</td>\n",
              "      <td>181.10</td>\n",
              "      <td>181.15</td>\n",
              "      <td>179.55</td>\n",
              "      <td>180.50</td>\n",
              "    </tr>\n",
              "    <tr>\n",
              "      <th>1</th>\n",
              "      <td>20250314</td>\n",
              "      <td>0051</td>\n",
              "      <td>41374</td>\n",
              "      <td>76.25</td>\n",
              "      <td>76.50</td>\n",
              "      <td>76.10</td>\n",
              "      <td>76.30</td>\n",
              "    </tr>\n",
              "    <tr>\n",
              "      <th>2</th>\n",
              "      <td>20250314</td>\n",
              "      <td>0052</td>\n",
              "      <td>463826</td>\n",
              "      <td>178.50</td>\n",
              "      <td>179.20</td>\n",
              "      <td>177.10</td>\n",
              "      <td>178.10</td>\n",
              "    </tr>\n",
              "    <tr>\n",
              "      <th>3</th>\n",
              "      <td>20250314</td>\n",
              "      <td>0053</td>\n",
              "      <td>10340</td>\n",
              "      <td>96.55</td>\n",
              "      <td>96.55</td>\n",
              "      <td>95.55</td>\n",
              "      <td>96.35</td>\n",
              "    </tr>\n",
              "    <tr>\n",
              "      <th>4</th>\n",
              "      <td>20250314</td>\n",
              "      <td>0055</td>\n",
              "      <td>56090</td>\n",
              "      <td>28.48</td>\n",
              "      <td>28.62</td>\n",
              "      <td>28.48</td>\n",
              "      <td>28.49</td>\n",
              "    </tr>\n",
              "    <tr>\n",
              "      <th>...</th>\n",
              "      <td>...</td>\n",
              "      <td>...</td>\n",
              "      <td>...</td>\n",
              "      <td>...</td>\n",
              "      <td>...</td>\n",
              "      <td>...</td>\n",
              "      <td>...</td>\n",
              "    </tr>\n",
              "    <tr>\n",
              "      <th>1281</th>\n",
              "      <td>20250314</td>\n",
              "      <td>9944</td>\n",
              "      <td>80194</td>\n",
              "      <td>20.00</td>\n",
              "      <td>20.10</td>\n",
              "      <td>19.95</td>\n",
              "      <td>20.10</td>\n",
              "    </tr>\n",
              "    <tr>\n",
              "      <th>1282</th>\n",
              "      <td>20250314</td>\n",
              "      <td>9945</td>\n",
              "      <td>21004707</td>\n",
              "      <td>38.75</td>\n",
              "      <td>38.80</td>\n",
              "      <td>37.90</td>\n",
              "      <td>38.00</td>\n",
              "    </tr>\n",
              "    <tr>\n",
              "      <th>1283</th>\n",
              "      <td>20250314</td>\n",
              "      <td>9946</td>\n",
              "      <td>651464</td>\n",
              "      <td>24.80</td>\n",
              "      <td>24.95</td>\n",
              "      <td>24.70</td>\n",
              "      <td>24.90</td>\n",
              "    </tr>\n",
              "    <tr>\n",
              "      <th>1284</th>\n",
              "      <td>20250314</td>\n",
              "      <td>9955</td>\n",
              "      <td>1475199</td>\n",
              "      <td>31.05</td>\n",
              "      <td>31.30</td>\n",
              "      <td>30.30</td>\n",
              "      <td>30.65</td>\n",
              "    </tr>\n",
              "    <tr>\n",
              "      <th>1285</th>\n",
              "      <td>20250314</td>\n",
              "      <td>9958</td>\n",
              "      <td>2312958</td>\n",
              "      <td>186.50</td>\n",
              "      <td>189.50</td>\n",
              "      <td>184.50</td>\n",
              "      <td>187.00</td>\n",
              "    </tr>\n",
              "  </tbody>\n",
              "</table>\n",
              "<p>1286 rows × 7 columns</p>\n",
              "</div>"
            ],
            "text/plain": [
              "            日期  證券代號      成交股數     開盤價     最高價     最低價     收盤價\n",
              "0     20250314  0050  14434475  181.10  181.15  179.55  180.50\n",
              "1     20250314  0051     41374   76.25   76.50   76.10   76.30\n",
              "2     20250314  0052    463826  178.50  179.20  177.10  178.10\n",
              "3     20250314  0053     10340   96.55   96.55   95.55   96.35\n",
              "4     20250314  0055     56090   28.48   28.62   28.48   28.49\n",
              "...        ...   ...       ...     ...     ...     ...     ...\n",
              "1281  20250314  9944     80194   20.00   20.10   19.95   20.10\n",
              "1282  20250314  9945  21004707   38.75   38.80   37.90   38.00\n",
              "1283  20250314  9946    651464   24.80   24.95   24.70   24.90\n",
              "1284  20250314  9955   1475199   31.05   31.30   30.30   30.65\n",
              "1285  20250314  9958   2312958  186.50  189.50  184.50  187.00\n",
              "\n",
              "[1286 rows x 7 columns]"
            ]
          },
          "execution_count": 2,
          "metadata": {},
          "output_type": "execute_result"
        }
      ],
      "source": [
        "import json\n",
        "jd = json.loads(res.text) #json.loads()將json字串轉成 python dict\n",
        "df = pd.DataFrame(jd['tables'][8]['data'], columns = jd['tables'][8]['fields'])\n",
        "df = df[['證券代號', '成交股數', '開盤價', '最高價', '最低價', '收盤價']] #挑選需要的欄位\n",
        "df = df.apply(lambda x : x.str.replace(\",\", \"\")) #將逗號刪除\n",
        "df.insert(0, \"日期\", \"20250314\") #增加日期欄位\n",
        "df"
      ]
    },
    {
      "cell_type": "code",
      "execution_count": null,
      "id": "1458fa08-6bf4-4a07-88b2-6c21b461a75e",
      "metadata": {
        "id": "1458fa08-6bf4-4a07-88b2-6c21b461a75e",
        "outputId": "d0d00117-1345-4e35-9f4f-ff5adb570291"
      },
      "outputs": [
        {
          "data": {
            "text/plain": [
              "'OK'"
            ]
          },
          "execution_count": 41,
          "metadata": {},
          "output_type": "execute_result"
        }
      ],
      "source": [
        "jd['stat']"
      ]
    },
    {
      "cell_type": "code",
      "execution_count": null,
      "id": "bfa3221d-ba81-41ba-9c5c-d8403bc33a60",
      "metadata": {
        "id": "bfa3221d-ba81-41ba-9c5c-d8403bc33a60"
      },
      "outputs": [],
      "source": [
        "import sqlite3 as lite\n",
        "sql = '''\n",
        "CREATE TABLE IF NOT EXISTS 每日收盤行情 (\n",
        "    日期     TEXT,\n",
        "    證券代號 TEXT,\n",
        "    成交股數\tTEXT,\n",
        "    開盤價\tTEXT,\n",
        "    最高價\tTEXT,\n",
        "    最低價\tTEXT,\n",
        "    收盤價   TEXT,\n",
        "    PRIMARY KEY(日期, 證券代號)\n",
        ");\n",
        "'''\n",
        "\n",
        "con = lite.connect(\"台股資料.db\") #開啟資料庫連結\n",
        "cur = con.cursor() #取得資料庫執行游標\n",
        "cur.execute(sql) #執行sql語法\n",
        "con.commit()#確認寫入, 當資料庫有新增、修改、刪除資料庫任何一個動作，皆要執行確認寫入\n",
        "cur.close() #關閉游標\n",
        "con.close() #關閉資料庫連結"
      ]
    },
    {
      "cell_type": "markdown",
      "id": "f9c6b43b-0316-4856-ad9c-886e8a89cd03",
      "metadata": {
        "id": "f9c6b43b-0316-4856-ad9c-886e8a89cd03"
      },
      "source": [
        "### 新增資料到資料庫"
      ]
    },
    {
      "cell_type": "code",
      "execution_count": null,
      "id": "8c633dba-ed0b-4e7b-8860-33d920ea4f61",
      "metadata": {
        "id": "8c633dba-ed0b-4e7b-8860-33d920ea4f61"
      },
      "outputs": [],
      "source": [
        "import sqlite3 as lite\n",
        "sql = '''\n",
        "INSERT INTO 每日收盤行情 (日期, 證券代號, 成交股數, 開盤價, 最高價, 最低價, 收盤價)\n",
        "VALUES (?, ?, ?, ?, ?, ?, ?);\n",
        "'''\n",
        "\n",
        "con = lite.connect(\"台股資料.db\") #開啟資料庫連結\n",
        "cur = con.cursor() #取得資料庫執行游標\n",
        "cur.executemany(sql, df.values.tolist()) #執行sql語法\n",
        "con.commit()#確認寫入, 當資料庫有新增、修改、刪除資料庫任何一個動作，皆要執行確認寫入\n",
        "cur.close() #關閉游標\n",
        "con.close() #關閉資料庫連結"
      ]
    },
    {
      "cell_type": "code",
      "execution_count": null,
      "id": "a9beb316-3fe8-491c-9ac9-fcd68d04ca2d",
      "metadata": {
        "id": "a9beb316-3fe8-491c-9ac9-fcd68d04ca2d",
        "outputId": "fb26392c-998e-43c4-cec5-cb8de9a60798"
      },
      "outputs": [
        {
          "data": {
            "text/html": [
              "<div>\n",
              "<style scoped>\n",
              "    .dataframe tbody tr th:only-of-type {\n",
              "        vertical-align: middle;\n",
              "    }\n",
              "\n",
              "    .dataframe tbody tr th {\n",
              "        vertical-align: top;\n",
              "    }\n",
              "\n",
              "    .dataframe thead th {\n",
              "        text-align: right;\n",
              "    }\n",
              "</style>\n",
              "<table border=\"1\" class=\"dataframe\">\n",
              "  <thead>\n",
              "    <tr style=\"text-align: right;\">\n",
              "      <th></th>\n",
              "      <th>日期</th>\n",
              "      <th>證券代號</th>\n",
              "      <th>成交股數</th>\n",
              "      <th>開盤價</th>\n",
              "      <th>最高價</th>\n",
              "      <th>最低價</th>\n",
              "      <th>收盤價</th>\n",
              "    </tr>\n",
              "  </thead>\n",
              "  <tbody>\n",
              "    <tr>\n",
              "      <th>0</th>\n",
              "      <td>20250314</td>\n",
              "      <td>0050</td>\n",
              "      <td>14434475</td>\n",
              "      <td>181.10</td>\n",
              "      <td>181.15</td>\n",
              "      <td>179.55</td>\n",
              "      <td>180.50</td>\n",
              "    </tr>\n",
              "    <tr>\n",
              "      <th>1</th>\n",
              "      <td>20250314</td>\n",
              "      <td>0051</td>\n",
              "      <td>41374</td>\n",
              "      <td>76.25</td>\n",
              "      <td>76.50</td>\n",
              "      <td>76.10</td>\n",
              "      <td>76.30</td>\n",
              "    </tr>\n",
              "    <tr>\n",
              "      <th>2</th>\n",
              "      <td>20250314</td>\n",
              "      <td>0052</td>\n",
              "      <td>463826</td>\n",
              "      <td>178.50</td>\n",
              "      <td>179.20</td>\n",
              "      <td>177.10</td>\n",
              "      <td>178.10</td>\n",
              "    </tr>\n",
              "    <tr>\n",
              "      <th>3</th>\n",
              "      <td>20250314</td>\n",
              "      <td>0053</td>\n",
              "      <td>10340</td>\n",
              "      <td>96.55</td>\n",
              "      <td>96.55</td>\n",
              "      <td>95.55</td>\n",
              "      <td>96.35</td>\n",
              "    </tr>\n",
              "    <tr>\n",
              "      <th>4</th>\n",
              "      <td>20250314</td>\n",
              "      <td>0055</td>\n",
              "      <td>56090</td>\n",
              "      <td>28.48</td>\n",
              "      <td>28.62</td>\n",
              "      <td>28.48</td>\n",
              "      <td>28.49</td>\n",
              "    </tr>\n",
              "    <tr>\n",
              "      <th>...</th>\n",
              "      <td>...</td>\n",
              "      <td>...</td>\n",
              "      <td>...</td>\n",
              "      <td>...</td>\n",
              "      <td>...</td>\n",
              "      <td>...</td>\n",
              "      <td>...</td>\n",
              "    </tr>\n",
              "    <tr>\n",
              "      <th>1281</th>\n",
              "      <td>20250314</td>\n",
              "      <td>9944</td>\n",
              "      <td>80194</td>\n",
              "      <td>20.00</td>\n",
              "      <td>20.10</td>\n",
              "      <td>19.95</td>\n",
              "      <td>20.10</td>\n",
              "    </tr>\n",
              "    <tr>\n",
              "      <th>1282</th>\n",
              "      <td>20250314</td>\n",
              "      <td>9945</td>\n",
              "      <td>21004707</td>\n",
              "      <td>38.75</td>\n",
              "      <td>38.80</td>\n",
              "      <td>37.90</td>\n",
              "      <td>38.00</td>\n",
              "    </tr>\n",
              "    <tr>\n",
              "      <th>1283</th>\n",
              "      <td>20250314</td>\n",
              "      <td>9946</td>\n",
              "      <td>651464</td>\n",
              "      <td>24.80</td>\n",
              "      <td>24.95</td>\n",
              "      <td>24.70</td>\n",
              "      <td>24.90</td>\n",
              "    </tr>\n",
              "    <tr>\n",
              "      <th>1284</th>\n",
              "      <td>20250314</td>\n",
              "      <td>9955</td>\n",
              "      <td>1475199</td>\n",
              "      <td>31.05</td>\n",
              "      <td>31.30</td>\n",
              "      <td>30.30</td>\n",
              "      <td>30.65</td>\n",
              "    </tr>\n",
              "    <tr>\n",
              "      <th>1285</th>\n",
              "      <td>20250314</td>\n",
              "      <td>9958</td>\n",
              "      <td>2312958</td>\n",
              "      <td>186.50</td>\n",
              "      <td>189.50</td>\n",
              "      <td>184.50</td>\n",
              "      <td>187.00</td>\n",
              "    </tr>\n",
              "  </tbody>\n",
              "</table>\n",
              "<p>1286 rows × 7 columns</p>\n",
              "</div>"
            ],
            "text/plain": [
              "            日期  證券代號      成交股數     開盤價     最高價     最低價     收盤價\n",
              "0     20250314  0050  14434475  181.10  181.15  179.55  180.50\n",
              "1     20250314  0051     41374   76.25   76.50   76.10   76.30\n",
              "2     20250314  0052    463826  178.50  179.20  177.10  178.10\n",
              "3     20250314  0053     10340   96.55   96.55   95.55   96.35\n",
              "4     20250314  0055     56090   28.48   28.62   28.48   28.49\n",
              "...        ...   ...       ...     ...     ...     ...     ...\n",
              "1281  20250314  9944     80194   20.00   20.10   19.95   20.10\n",
              "1282  20250314  9945  21004707   38.75   38.80   37.90   38.00\n",
              "1283  20250314  9946    651464   24.80   24.95   24.70   24.90\n",
              "1284  20250314  9955   1475199   31.05   31.30   30.30   30.65\n",
              "1285  20250314  9958   2312958  186.50  189.50  184.50  187.00\n",
              "\n",
              "[1286 rows x 7 columns]"
            ]
          },
          "execution_count": 21,
          "metadata": {},
          "output_type": "execute_result"
        }
      ],
      "source": [
        "import sqlite3 as lite\n",
        "sql = '''\n",
        "SELECT * FROM 每日收盤行情;\n",
        "'''\n",
        "\n",
        "con = lite.connect(\"台股資料.db\") #開啟資料庫連結\n",
        "cur = con.cursor() #取得資料庫執行游標\n",
        "cur.execute(sql) #執行sql語法\n",
        "rows = cur.fetchall() #取得全部資料\n",
        "header = [item[0] for item in cur.description] #取得資料表標題\n",
        "cur.close() #關閉游標\n",
        "con.close() #關閉資料庫連結\n",
        "df1 = pd.DataFrame(rows, columns = header)\n",
        "df1"
      ]
    },
    {
      "cell_type": "code",
      "execution_count": null,
      "id": "ad873714-f2bc-4da5-9965-e027eaf57157",
      "metadata": {
        "id": "ad873714-f2bc-4da5-9965-e027eaf57157",
        "outputId": "5fe02dc0-12cb-4ec5-a7f6-1326a308988b"
      },
      "outputs": [
        {
          "data": {
            "text/plain": [
              "'C:\\\\Users\\\\USER\\\\Desktop\\\\157102_python金融資料庫'"
            ]
          },
          "execution_count": 16,
          "metadata": {},
          "output_type": "execute_result"
        }
      ],
      "source": [
        "%pwd"
      ]
    },
    {
      "cell_type": "code",
      "execution_count": null,
      "id": "f6dba111-25b2-445e-b334-3e2c6f12d8ba",
      "metadata": {
        "id": "f6dba111-25b2-445e-b334-3e2c6f12d8ba",
        "outputId": "9daf2d3e-2e84-4068-f3b9-be58c7d64c17"
      },
      "outputs": [
        {
          "data": {
            "text/plain": [
              "(datetime.datetime(2025, 3, 15, 11, 16, 34, 339950),\n",
              " datetime.datetime(2025, 3, 15, 11, 16, 34, 339949))"
            ]
          },
          "execution_count": 23,
          "metadata": {},
          "output_type": "execute_result"
        }
      ],
      "source": [
        "import datetime as dt\n",
        "dt.datetime.today(), dt.datetime.now()"
      ]
    },
    {
      "cell_type": "code",
      "execution_count": null,
      "id": "5f77d47f-fc4b-4275-bb21-c15888ac0685",
      "metadata": {
        "id": "5f77d47f-fc4b-4275-bb21-c15888ac0685",
        "outputId": "72bdcc47-cafd-4e25-905e-e489f9451422"
      },
      "outputs": [
        {
          "data": {
            "text/plain": [
              "datetime.datetime(2025, 3, 10, 11, 17, 39, 85325)"
            ]
          },
          "execution_count": 26,
          "metadata": {},
          "output_type": "execute_result"
        }
      ],
      "source": [
        "#日期時間計算\n",
        "dt.datetime.today() - dt.timedelta(days = 5)"
      ]
    },
    {
      "cell_type": "code",
      "execution_count": null,
      "id": "f923e160-8552-40e5-a36a-4a8fc0b614cb",
      "metadata": {
        "id": "f923e160-8552-40e5-a36a-4a8fc0b614cb",
        "outputId": "4e5c943d-e72f-4e6a-d0e1-ac8563760f9a"
      },
      "outputs": [
        {
          "name": "stdout",
          "output_type": "stream",
          "text": [
            "20250310\n",
            "20250311\n",
            "20250312\n",
            "20250313\n",
            "20250314\n"
          ]
        }
      ],
      "source": [
        "base = dt.datetime.today() - dt.timedelta(days = 5) #取得指定日期基準日\n",
        "while base < dt.datetime.today(): #時間比較\n",
        "    print(base.strftime(\"%Y%m%d\"))\n",
        "    base += dt.timedelta(days = 1) #日期累加"
      ]
    },
    {
      "cell_type": "code",
      "execution_count": null,
      "id": "908f1054-3372-4680-9e2a-d63a95aa8526",
      "metadata": {
        "id": "908f1054-3372-4680-9e2a-d63a95aa8526",
        "outputId": "2f32e3e1-a264-4ea5-b43c-7f47e323cde4"
      },
      "outputs": [
        {
          "name": "stdout",
          "output_type": "stream",
          "text": [
            "00:00\n"
          ]
        }
      ],
      "source": [
        "t = 10\n",
        "while t > -1:\n",
        "    min, sec = divmod(t, 60)\n",
        "    if t > 0:\n",
        "        print(f\"{min:02d}:{sec:02d}\", end = '\\r')\n",
        "    if t == 0:\n",
        "        print(f\"{min:02d}:{sec:02d}\", end = '\\n')\n",
        "    t -= 1\n",
        "    time.sleep(1)"
      ]
    },
    {
      "cell_type": "code",
      "execution_count": null,
      "id": "4e449544-ce11-44e6-83ee-8af2a6c33af2",
      "metadata": {
        "id": "4e449544-ce11-44e6-83ee-8af2a6c33af2",
        "outputId": "bb1d39da-0440-41e0-ed06-c4dabe95cc0e"
      },
      "outputs": [
        {
          "data": {
            "text/plain": [
              "\"\\nINSERT INTO 每日收盤行情 ('日期', '證券代號', '成交股數', '開盤價', '最高價', '最低價', '收盤價') \\nVALUES (?,?,?,?,?,?,?);\\n\""
            ]
          },
          "execution_count": 69,
          "metadata": {},
          "output_type": "execute_result"
        }
      ],
      "source": [
        "sql = '''\n",
        "INSERT INTO {} {}\n",
        "VALUES ({});\n",
        "'''\n",
        "sql.format('每日收盤行情', tuple(df.columns.tolist()), ','.join('?'*len(df.columns)))"
      ]
    },
    {
      "cell_type": "code",
      "execution_count": null,
      "id": "5e12a9e2-dc2a-4b05-a137-77fbbc0f99e0",
      "metadata": {
        "id": "5e12a9e2-dc2a-4b05-a137-77fbbc0f99e0",
        "outputId": "247885a3-acb0-49d1-c851-371f55690e9b"
      },
      "outputs": [
        {
          "data": {
            "text/plain": [
              "Index(['日期', '證券代號', '成交股數', '開盤價', '最高價', '最低價', '收盤價'], dtype='object')"
            ]
          },
          "execution_count": 7,
          "metadata": {},
          "output_type": "execute_result"
        }
      ],
      "source": [
        "df.columns"
      ]
    },
    {
      "cell_type": "code",
      "execution_count": null,
      "id": "de85b0ca-f967-44d8-ba09-9f6a5b3e732c",
      "metadata": {
        "id": "de85b0ca-f967-44d8-ba09-9f6a5b3e732c",
        "outputId": "7f148438-a402-449c-a111-9bc7f7e01006"
      },
      "outputs": [
        {
          "data": {
            "text/plain": [
              "['日期 TEXT',\n",
              " '證券代號 TEXT',\n",
              " '成交股數 TEXT',\n",
              " '開盤價 TEXT',\n",
              " '最高價 TEXT',\n",
              " '最低價 TEXT',\n",
              " '收盤價 TEXT']"
            ]
          },
          "execution_count": 9,
          "metadata": {},
          "output_type": "execute_result"
        }
      ],
      "source": [
        "[f'{item} TEXT' for item in df.columns]"
      ]
    },
    {
      "cell_type": "code",
      "execution_count": null,
      "id": "b5db32ec-0ff3-4ce6-a246-a29822528755",
      "metadata": {
        "id": "b5db32ec-0ff3-4ce6-a246-a29822528755",
        "outputId": "742146ab-d22d-4472-cbdb-ac47f04ceb45"
      },
      "outputs": [
        {
          "data": {
            "text/plain": [
              "'\\nCREATE TABLE IF NOT EXISTS 每日收盤行情 (\\n    日期 TEXT,證券代號 TEXT,成交股數 TEXT,開盤價 TEXT,最高價 TEXT,最低價 TEXT,收盤價 TEXT,\\n    PRIMARY KEY(日期,證券代號)\\n);\\n'"
            ]
          },
          "execution_count": 13,
          "metadata": {},
          "output_type": "execute_result"
        }
      ],
      "source": [
        "sql = '''\n",
        "CREATE TABLE IF NOT EXISTS {} (\n",
        "    {},\n",
        "    PRIMARY KEY({})\n",
        ");\n",
        "'''\n",
        "sql.format('每日收盤行情',\n",
        "           ','.join(['{} TEXT'.format(item) for item in df.columns]),\n",
        "           ','.join(['日期', '證券代號']))"
      ]
    },
    {
      "cell_type": "code",
      "execution_count": null,
      "id": "1c7026f7-2270-4686-bff6-190b659615c5",
      "metadata": {
        "id": "1c7026f7-2270-4686-bff6-190b659615c5",
        "outputId": "ed466255-221c-41df-cdcc-6ac3cbc51242"
      },
      "outputs": [
        {
          "name": "stdout",
          "output_type": "stream",
          "text": [
            "20250310\n",
            "00:00\n",
            "20250311\n",
            "00:00\n",
            "20250312\n",
            "00:00\n",
            "20250313\n",
            "00:00\n",
            "20250314\n",
            "00:00\n",
            "20250315\n",
            "00:00\n"
          ]
        },
        {
          "data": {
            "text/html": [
              "<div>\n",
              "<style scoped>\n",
              "    .dataframe tbody tr th:only-of-type {\n",
              "        vertical-align: middle;\n",
              "    }\n",
              "\n",
              "    .dataframe tbody tr th {\n",
              "        vertical-align: top;\n",
              "    }\n",
              "\n",
              "    .dataframe thead th {\n",
              "        text-align: right;\n",
              "    }\n",
              "</style>\n",
              "<table border=\"1\" class=\"dataframe\">\n",
              "  <thead>\n",
              "    <tr style=\"text-align: right;\">\n",
              "      <th></th>\n",
              "      <th>日期</th>\n",
              "      <th>證券代號</th>\n",
              "      <th>成交股數</th>\n",
              "      <th>開盤價</th>\n",
              "      <th>最高價</th>\n",
              "      <th>最低價</th>\n",
              "      <th>收盤價</th>\n",
              "    </tr>\n",
              "  </thead>\n",
              "  <tbody>\n",
              "    <tr>\n",
              "      <th>0</th>\n",
              "      <td>20250310</td>\n",
              "      <td>0050</td>\n",
              "      <td>22718416</td>\n",
              "      <td>186.35</td>\n",
              "      <td>186.35</td>\n",
              "      <td>184.35</td>\n",
              "      <td>185.25</td>\n",
              "    </tr>\n",
              "    <tr>\n",
              "      <th>1</th>\n",
              "      <td>20250310</td>\n",
              "      <td>0051</td>\n",
              "      <td>59547</td>\n",
              "      <td>78.70</td>\n",
              "      <td>78.70</td>\n",
              "      <td>77.80</td>\n",
              "      <td>77.90</td>\n",
              "    </tr>\n",
              "    <tr>\n",
              "      <th>2</th>\n",
              "      <td>20250310</td>\n",
              "      <td>0052</td>\n",
              "      <td>461478</td>\n",
              "      <td>185.30</td>\n",
              "      <td>185.30</td>\n",
              "      <td>182.45</td>\n",
              "      <td>183.90</td>\n",
              "    </tr>\n",
              "    <tr>\n",
              "      <th>3</th>\n",
              "      <td>20250310</td>\n",
              "      <td>0053</td>\n",
              "      <td>11462</td>\n",
              "      <td>98.10</td>\n",
              "      <td>98.70</td>\n",
              "      <td>97.95</td>\n",
              "      <td>98.70</td>\n",
              "    </tr>\n",
              "    <tr>\n",
              "      <th>4</th>\n",
              "      <td>20250310</td>\n",
              "      <td>0055</td>\n",
              "      <td>87317</td>\n",
              "      <td>28.80</td>\n",
              "      <td>28.85</td>\n",
              "      <td>28.61</td>\n",
              "      <td>28.77</td>\n",
              "    </tr>\n",
              "    <tr>\n",
              "      <th>...</th>\n",
              "      <td>...</td>\n",
              "      <td>...</td>\n",
              "      <td>...</td>\n",
              "      <td>...</td>\n",
              "      <td>...</td>\n",
              "      <td>...</td>\n",
              "      <td>...</td>\n",
              "    </tr>\n",
              "    <tr>\n",
              "      <th>6416</th>\n",
              "      <td>20250314</td>\n",
              "      <td>9944</td>\n",
              "      <td>80194</td>\n",
              "      <td>20.00</td>\n",
              "      <td>20.10</td>\n",
              "      <td>19.95</td>\n",
              "      <td>20.10</td>\n",
              "    </tr>\n",
              "    <tr>\n",
              "      <th>6417</th>\n",
              "      <td>20250314</td>\n",
              "      <td>9945</td>\n",
              "      <td>21004707</td>\n",
              "      <td>38.75</td>\n",
              "      <td>38.80</td>\n",
              "      <td>37.90</td>\n",
              "      <td>38.00</td>\n",
              "    </tr>\n",
              "    <tr>\n",
              "      <th>6418</th>\n",
              "      <td>20250314</td>\n",
              "      <td>9946</td>\n",
              "      <td>651464</td>\n",
              "      <td>24.80</td>\n",
              "      <td>24.95</td>\n",
              "      <td>24.70</td>\n",
              "      <td>24.90</td>\n",
              "    </tr>\n",
              "    <tr>\n",
              "      <th>6419</th>\n",
              "      <td>20250314</td>\n",
              "      <td>9955</td>\n",
              "      <td>1475199</td>\n",
              "      <td>31.05</td>\n",
              "      <td>31.30</td>\n",
              "      <td>30.30</td>\n",
              "      <td>30.65</td>\n",
              "    </tr>\n",
              "    <tr>\n",
              "      <th>6420</th>\n",
              "      <td>20250314</td>\n",
              "      <td>9958</td>\n",
              "      <td>2312958</td>\n",
              "      <td>186.50</td>\n",
              "      <td>189.50</td>\n",
              "      <td>184.50</td>\n",
              "      <td>187.00</td>\n",
              "    </tr>\n",
              "  </tbody>\n",
              "</table>\n",
              "<p>6421 rows × 7 columns</p>\n",
              "</div>"
            ],
            "text/plain": [
              "            日期  證券代號      成交股數     開盤價     最高價     最低價     收盤價\n",
              "0     20250310  0050  22718416  186.35  186.35  184.35  185.25\n",
              "1     20250310  0051     59547   78.70   78.70   77.80   77.90\n",
              "2     20250310  0052    461478  185.30  185.30  182.45  183.90\n",
              "3     20250310  0053     11462   98.10   98.70   97.95   98.70\n",
              "4     20250310  0055     87317   28.80   28.85   28.61   28.77\n",
              "...        ...   ...       ...     ...     ...     ...     ...\n",
              "6416  20250314  9944     80194   20.00   20.10   19.95   20.10\n",
              "6417  20250314  9945  21004707   38.75   38.80   37.90   38.00\n",
              "6418  20250314  9946    651464   24.80   24.95   24.70   24.90\n",
              "6419  20250314  9955   1475199   31.05   31.30   30.30   30.65\n",
              "6420  20250314  9958   2312958  186.50  189.50  184.50  187.00\n",
              "\n",
              "[6421 rows x 7 columns]"
            ]
          },
          "execution_count": 2,
          "metadata": {},
          "output_type": "execute_result"
        }
      ],
      "source": [
        "import requests\n",
        "import pandas as pd\n",
        "import datetime as dt\n",
        "import json\n",
        "import time\n",
        "import sqlite3 as lite\n",
        "\n",
        "class operateDB():\n",
        "    def __init__(self, dbname, tablename, dbcolumns = None, primarykey = None):\n",
        "        self.dbname = dbname\n",
        "        self.tablename = tablename\n",
        "        self.dbcolumns = dbcolumns\n",
        "        self.primarykey = primarykey\n",
        "\n",
        "    def rundb(self, sql, data = None, readdata = False):\n",
        "        con = lite.connect(self.dbname) #開啟資料庫連結\n",
        "        cur = con.cursor() #取得資料庫執行游標\n",
        "\n",
        "        if data == None:\n",
        "            cur.execute(sql)\n",
        "        else:\n",
        "            cur.executemany(sql, data) #執行sql語法\n",
        "        if not readdata:\n",
        "            con.commit()#確認寫入, 當資料庫有新增、修改、刪除資料庫任何一個動作，皆要執行確認寫入\n",
        "        else:\n",
        "            rows = cur.fetchall()\n",
        "            header = [item[0] for item in cur.description]\n",
        "            df = pd.DataFrame(rows, columns = header)\n",
        "\n",
        "        cur.close() #關閉游標\n",
        "        con.close() #關閉資料庫連結\n",
        "\n",
        "        if readdata:\n",
        "            return df\n",
        "        else:\n",
        "            return pd.DataFrame()\n",
        "\n",
        "    def createtable(self):\n",
        "        sql = '''\n",
        "        CREATE TABLE IF NOT EXISTS {} (\n",
        "            {},\n",
        "            PRIMARY KEY({})\n",
        "        );\n",
        "        '''\n",
        "        sql = sql.format(self.tablename,\n",
        "                           ','.join(['{} TEXT'.format(item) for item in self.dbcolumns]),\n",
        "                           ','.join(self.primarykey))\n",
        "        self.rundb(sql)\n",
        "\n",
        "    def insertdata(self, df):\n",
        "        self.createtable()\n",
        "        sql = '''\n",
        "        INSERT OR REPLACE INTO {} {}\n",
        "        VALUES ({});\n",
        "        '''\n",
        "        sql = sql.format(self.tablename,\n",
        "                         tuple(self.dbcolumns),\n",
        "                         ','.join('?' * len(self.dbcolumns)))\n",
        "        self.rundb(sql, df.values.tolist())\n",
        "\n",
        "    def querydb(self):\n",
        "        sql = '''\n",
        "        SELECT * FROM {};\n",
        "        '''.format(self.tablename)\n",
        "        return self.rundb(sql, readdata = True)\n",
        "\n",
        "def countdown(t):\n",
        "    while t > -1:\n",
        "        min, sec = divmod(t, 60)\n",
        "        if t > 0:\n",
        "            print(f\"{min:02d}:{sec:02d}\", end = '\\r')\n",
        "        if t == 0:\n",
        "            print(f\"{min:02d}:{sec:02d}\", end = '\\n')\n",
        "        t -= 1\n",
        "        time.sleep(1)\n",
        "\n",
        "def quote(date):\n",
        "    url = \"https://www.twse.com.tw/rwd/zh/afterTrading/MI_INDEX\"\n",
        "    payload = {\n",
        "        \"date\": date,\n",
        "        \"type\": \"ALLBUT0999\",\n",
        "        \"response\": \"json\"\n",
        "    }\n",
        "    res = requests.get(url, params = payload)\n",
        "    jd = json.loads(res.text) #json.loads()將json字串轉成 python dict\n",
        "    if jd['stat'].lower() == \"ok\": #確認交易日有資料\n",
        "        df = pd.DataFrame(jd['tables'][8]['data'], columns = jd['tables'][8]['fields'])\n",
        "        df = df[['證券代號', '成交股數', '開盤價', '最高價', '最低價', '收盤價']] #挑選需要的欄位\n",
        "        df = df.apply(lambda x : x.str.replace(\",\", \"\")) #將逗號刪除\n",
        "        df.insert(0, \"日期\", date) #增加日期欄位\n",
        "        return df #有資料時回傳\n",
        "    else:\n",
        "        return pd.DataFrame() #沒資料時回傳空的表格\n",
        "\n",
        "data = []\n",
        "dbname = \"台股資料.db\"\n",
        "tablename = \"每日收盤行情\"\n",
        "columns = ['日期', '證券代號', '成交股數', '開盤價', '最高價', '最低價', '收盤價']\n",
        "primarykey = ['日期', '證券代號']\n",
        "db = operateDB(dbname, tablename, columns, primarykey)\n",
        "base = dt.datetime.today() - dt.timedelta(days = 5) #取得指定日期基準日\n",
        "while base < dt.datetime.today(): #時間比較\n",
        "    date = base.strftime(\"%Y%m%d\")\n",
        "    print(date)\n",
        "    df0 = quote(date)\n",
        "    if not df0.empty: #留下有資料\n",
        "        data.append(df0) #帶入日期取得當天交易日的行情資料\n",
        "        db.insertdata(df0)\n",
        "    countdown(10) #每次抓取資料後，暫停10秒\n",
        "    base += dt.timedelta(days = 1) #日期累加\n",
        "df = pd.concat(data, ignore_index = True)\n",
        "df"
      ]
    },
    {
      "cell_type": "code",
      "execution_count": null,
      "id": "994f715a-0c5c-4d3c-ab2d-92f63834f665",
      "metadata": {
        "id": "994f715a-0c5c-4d3c-ab2d-92f63834f665",
        "outputId": "d74d4e58-5f6f-4b4f-a6e9-97666e3018f4"
      },
      "outputs": [
        {
          "name": "stdout",
          "output_type": "stream",
          "text": [
            "20250310\n",
            "00:00\n",
            "20250311\n",
            "00:00\n",
            "20250312\n",
            "00:04\r"
          ]
        }
      ],
      "source": [
        "import requests\n",
        "import pandas as pd\n",
        "import datetime as dt\n",
        "import json\n",
        "import time\n",
        "import lib\n",
        "\n",
        "def quote(date):\n",
        "    url = \"https://www.twse.com.tw/rwd/zh/afterTrading/MI_INDEX\"\n",
        "    payload = {\n",
        "        \"date\": date,\n",
        "        \"type\": \"ALLBUT0999\",\n",
        "        \"response\": \"json\"\n",
        "    }\n",
        "    res = requests.get(url, params = payload)\n",
        "    jd = json.loads(res.text) #json.loads()將json字串轉成 python dict\n",
        "    if jd['stat'].lower() == \"ok\": #確認交易日有資料\n",
        "        df = pd.DataFrame(jd['tables'][8]['data'], columns = jd['tables'][8]['fields'])\n",
        "        df = df[['證券代號', '成交股數', '開盤價', '最高價', '最低價', '收盤價']] #挑選需要的欄位\n",
        "        df = df.apply(lambda x : x.str.replace(\",\", \"\")) #將逗號刪除\n",
        "        df.insert(0, \"日期\", date) #增加日期欄位\n",
        "        return df #有資料時回傳\n",
        "    else:\n",
        "        return pd.DataFrame() #沒資料時回傳空的表格\n",
        "\n",
        "data = []\n",
        "dbname = \"台股資料.db\"\n",
        "tablename = \"每日收盤行情\"\n",
        "columns = ['日期', '證券代號', '成交股數', '開盤價', '最高價', '最低價', '收盤價']\n",
        "primarykey = ['日期', '證券代號']\n",
        "db = lib.operateDB(dbname, tablename, columns, primarykey)\n",
        "base = dt.datetime.today() - dt.timedelta(days = 5) #取得指定日期基準日\n",
        "while base < dt.datetime.today(): #時間比較\n",
        "    date = base.strftime(\"%Y%m%d\")\n",
        "    print(date)\n",
        "    df0 = quote(date)\n",
        "    if not df0.empty: #留下有資料\n",
        "        data.append(df0) #帶入日期取得當天交易日的行情資料\n",
        "        db.insertdata(df0)\n",
        "    lib.countdown(10) #每次抓取資料後，暫停10秒\n",
        "    base += dt.timedelta(days = 1) #日期累加\n",
        "df = pd.concat(data, ignore_index = True)\n",
        "df"
      ]
    },
    {
      "cell_type": "code",
      "execution_count": null,
      "id": "ce3bbe7b-14ab-4e5b-85f7-c171a05381db",
      "metadata": {
        "id": "ce3bbe7b-14ab-4e5b-85f7-c171a05381db"
      },
      "outputs": [],
      "source": []
    }
  ],
  "metadata": {
    "kernelspec": {
      "display_name": "Python 3 (ipykernel)",
      "language": "python",
      "name": "python3"
    },
    "language_info": {
      "codemirror_mode": {
        "name": "ipython",
        "version": 3
      },
      "file_extension": ".py",
      "mimetype": "text/x-python",
      "name": "python",
      "nbconvert_exporter": "python",
      "pygments_lexer": "ipython3",
      "version": "3.12.7"
    },
    "colab": {
      "provenance": [],
      "include_colab_link": true
    }
  },
  "nbformat": 4,
  "nbformat_minor": 5
}