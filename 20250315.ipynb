{
  "cells": [
    {
      "cell_type": "markdown",
      "metadata": {
        "id": "view-in-github",
        "colab_type": "text"
      },
      "source": [
        "<a href=\"https://colab.research.google.com/github/tina60239/MarketWatchCat/blob/main/20250315_3.ipynb\" target=\"_parent\"><img src=\"https://colab.research.google.com/assets/colab-badge.svg\" alt=\"Open In Colab\"/></a>"
      ]
    },
    {
      "cell_type": "code",
      "execution_count": null,
      "id": "8d06d4a7-5b0d-4d26-8d5a-1844dbe4bcf0",
      "metadata": {
        "id": "8d06d4a7-5b0d-4d26-8d5a-1844dbe4bcf0",
        "outputId": "e045097b-0595-4c1e-cbfe-bdfb5d0a671d"
      },
      "outputs": [
        {
          "data": {
            "text/plain": [
              "<Response [200]>"
            ]
          },
          "execution_count": 1,
          "metadata": {},
          "output_type": "execute_result"
        }
      ],
      "source": [
        "import requests\n",
        "import pandas as pd\n",
        "url = \"https://www.twse.com.tw/rwd/zh/afterTrading/MI_INDEX\"\n",
        "payload = {\n",
        "    \"date\": \"20250314\",\n",
        "    \"type\": \"ALLBUT0999\",\n",
        "    \"response\": \"json\"\n",
        "}\n",
        "res = requests.get(url, params = payload)\n",
        "res"
      ]
    },
    {
      "cell_type": "code",
      "execution_count": null,
      "id": "8385faaf-07e9-486e-b2cf-b97e8b531a7c",
      "metadata": {
        "id": "8385faaf-07e9-486e-b2cf-b97e8b531a7c",
        "outputId": "486f5819-5045-4a59-b78e-91864153bb56"
      },
      "outputs": [
        {
          "data": {
            "text/html": [
              "<div>\n",
              "<style scoped>\n",
              "    .dataframe tbody tr th:only-of-type {\n",
              "        vertical-align: middle;\n",
              "    }\n",
              "\n",
              "    .dataframe tbody tr th {\n",
              "        vertical-align: top;\n",
              "    }\n",
              "\n",
              "    .dataframe thead th {\n",
              "        text-align: right;\n",
              "    }\n",
              "</style>\n",
              "<table border=\"1\" class=\"dataframe\">\n",
              "  <thead>\n",
              "    <tr style=\"text-align: right;\">\n",
              "      <th></th>\n",
              "      <th>日期</th>\n",
              "      <th>證券代號</th>\n",
              "      <th>成交股數</th>\n",
              "      <th>開盤價</th>\n",
              "      <th>最高價</th>\n",
              "      <th>最低價</th>\n",
              "      <th>收盤價</th>\n",
              "    </tr>\n",
              "  </thead>\n",
              "  <tbody>\n",
              "    <tr>\n",
              "      <th>0</th>\n",
              "      <td>20250314</td>\n",
              "      <td>0050</td>\n",
              "      <td>14434475</td>\n",
              "      <td>181.10</td>\n",
              "      <td>181.15</td>\n",
              "      <td>179.55</td>\n",
              "      <td>180.50</td>\n",
              "    </tr>\n",
              "    <tr>\n",
              "      <th>1</th>\n",
              "      <td>20250314</td>\n",
              "      <td>0051</td>\n",
              "      <td>41374</td>\n",
              "      <td>76.25</td>\n",
              "      <td>76.50</td>\n",
              "      <td>76.10</td>\n",
              "      <td>76.30</td>\n",
              "    </tr>\n",
              "    <tr>\n",
              "      <th>2</th>\n",
              "      <td>20250314</td>\n",
              "      <td>0052</td>\n",
              "      <td>463826</td>\n",
              "      <td>178.50</td>\n",
              "      <td>179.20</td>\n",
              "      <td>177.10</td>\n",
              "      <td>178.10</td>\n",
              "    </tr>\n",
              "    <tr>\n",
              "      <th>3</th>\n",
              "      <td>20250314</td>\n",
              "      <td>0053</td>\n",
              "      <td>10340</td>\n",
              "      <td>96.55</td>\n",
              "      <td>96.55</td>\n",
              "      <td>95.55</td>\n",
              "      <td>96.35</td>\n",
              "    </tr>\n",
              "    <tr>\n",
              "      <th>4</th>\n",
              "      <td>20250314</td>\n",
              "      <td>0055</td>\n",
              "      <td>56090</td>\n",
              "      <td>28.48</td>\n",
              "      <td>28.62</td>\n",
              "      <td>28.48</td>\n",
              "      <td>28.49</td>\n",
              "    </tr>\n",
              "    <tr>\n",
              "      <th>...</th>\n",
              "      <td>...</td>\n",
              "      <td>...</td>\n",
              "      <td>...</td>\n",
              "      <td>...</td>\n",
              "      <td>...</td>\n",
              "      <td>...</td>\n",
              "      <td>...</td>\n",
              "    </tr>\n",
              "    <tr>\n",
              "      <th>1281</th>\n",
              "      <td>20250314</td>\n",
              "      <td>9944</td>\n",
              "      <td>80194</td>\n",
              "      <td>20.00</td>\n",
              "      <td>20.10</td>\n",
              "      <td>19.95</td>\n",
              "      <td>20.10</td>\n",
              "    </tr>\n",
              "    <tr>\n",
              "      <th>1282</th>\n",
              "      <td>20250314</td>\n",
              "      <td>9945</td>\n",
              "      <td>21004707</td>\n",
              "      <td>38.75</td>\n",
              "      <td>38.80</td>\n",
              "      <td>37.90</td>\n",
              "      <td>38.00</td>\n",
              "    </tr>\n",
              "    <tr>\n",
              "      <th>1283</th>\n",
              "      <td>20250314</td>\n",
              "      <td>9946</td>\n",
              "      <td>651464</td>\n",
              "      <td>24.80</td>\n",
              "      <td>24.95</td>\n",
              "      <td>24.70</td>\n",
              "      <td>24.90</td>\n",
              "    </tr>\n",
              "    <tr>\n",
              "      <th>1284</th>\n",
              "      <td>20250314</td>\n",
              "      <td>9955</td>\n",
              "      <td>1475199</td>\n",
              "      <td>31.05</td>\n",
              "      <td>31.30</td>\n",
              "      <td>30.30</td>\n",
              "      <td>30.65</td>\n",
              "    </tr>\n",
              "    <tr>\n",
              "      <th>1285</th>\n",
              "      <td>20250314</td>\n",
              "      <td>9958</td>\n",
              "      <td>2312958</td>\n",
              "      <td>186.50</td>\n",
              "      <td>189.50</td>\n",
              "      <td>184.50</td>\n",
              "      <td>187.00</td>\n",
              "    </tr>\n",
              "  </tbody>\n",
              "</table>\n",
              "<p>1286 rows × 7 columns</p>\n",
              "</div>"
            ],
            "text/plain": [
              "            日期  證券代號      成交股數     開盤價     最高價     最低價     收盤價\n",
              "0     20250314  0050  14434475  181.10  181.15  179.55  180.50\n",
              "1     20250314  0051     41374   76.25   76.50   76.10   76.30\n",
              "2     20250314  0052    463826  178.50  179.20  177.10  178.10\n",
              "3     20250314  0053     10340   96.55   96.55   95.55   96.35\n",
              "4     20250314  0055     56090   28.48   28.62   28.48   28.49\n",
              "...        ...   ...       ...     ...     ...     ...     ...\n",
              "1281  20250314  9944     80194   20.00   20.10   19.95   20.10\n",
              "1282  20250314  9945  21004707   38.75   38.80   37.90   38.00\n",
              "1283  20250314  9946    651464   24.80   24.95   24.70   24.90\n",
              "1284  20250314  9955   1475199   31.05   31.30   30.30   30.65\n",
              "1285  20250314  9958   2312958  186.50  189.50  184.50  187.00\n",
              "\n",
              "[1286 rows x 7 columns]"
            ]
          },
          "execution_count": 2,
          "metadata": {},
          "output_type": "execute_result"
        }
      ],
      "source": [
        "import json\n",
        "jd = json.loads(res.text) #json.loads()將json字串轉成 python dict\n",
        "df = pd.DataFrame(jd['tables'][8]['data'], columns = jd['tables'][8]['fields'])\n",
        "df = df[['證券代號', '成交股數', '開盤價', '最高價', '最低價', '收盤價']] #挑選需要的欄位\n",
        "df = df.apply(lambda x : x.str.replace(\",\", \"\")) #將逗號刪除\n",
        "df.insert(0, \"日期\", \"20250314\") #增加日期欄位\n",
        "df"
      ]
    },
    {
      "cell_type": "code",
      "execution_count": null,
      "id": "1458fa08-6bf4-4a07-88b2-6c21b461a75e",
      "metadata": {
        "id": "1458fa08-6bf4-4a07-88b2-6c21b461a75e",
        "outputId": "611ebc17-ce24-45e8-8e63-5a5c880a8017"
      },
      "outputs": [
        {
          "data": {
            "text/plain": [
              "'OK'"
            ]
          },
          "execution_count": 41,
          "metadata": {},
          "output_type": "execute_result"
        }
      ],
      "source": [
        "jd['stat']"
      ]
    },
    {
      "cell_type": "code",
      "execution_count": null,
      "id": "bfa3221d-ba81-41ba-9c5c-d8403bc33a60",
      "metadata": {
        "id": "bfa3221d-ba81-41ba-9c5c-d8403bc33a60"
      },
      "outputs": [],
      "source": [
        "import sqlite3 as lite\n",
        "sql = '''\n",
        "CREATE TABLE IF NOT EXISTS 每日收盤行情 (\n",
        "    日期     TEXT,\n",
        "    證券代號 TEXT,\n",
        "    成交股數\tTEXT,\n",
        "    開盤價\tTEXT,\n",
        "    最高價\tTEXT,\n",
        "    最低價\tTEXT,\n",
        "    收盤價   TEXT,\n",
        "    PRIMARY KEY(日期, 證券代號)\n",
        ");\n",
        "'''\n",
        "\n",
        "con = lite.connect(\"台股資料.db\") #開啟資料庫連結\n",
        "cur = con.cursor() #取得資料庫執行游標\n",
        "cur.execute(sql) #執行sql語法\n",
        "con.commit()#確認寫入, 當資料庫有新增、修改、刪除資料庫任何一個動作，皆要執行確認寫入\n",
        "cur.close() #關閉游標\n",
        "con.close() #關閉資料庫連結"
      ]
    },
    {
      "cell_type": "markdown",
      "id": "f9c6b43b-0316-4856-ad9c-886e8a89cd03",
      "metadata": {
        "id": "f9c6b43b-0316-4856-ad9c-886e8a89cd03"
      },
      "source": [
        "### 新增資料到資料庫"
      ]
    },
    {
      "cell_type": "code",
      "execution_count": null,
      "id": "8c633dba-ed0b-4e7b-8860-33d920ea4f61",
      "metadata": {
        "id": "8c633dba-ed0b-4e7b-8860-33d920ea4f61"
      },
      "outputs": [],
      "source": [
        "import sqlite3 as lite\n",
        "sql = '''\n",
        "INSERT INTO 每日收盤行情 (日期, 證券代號, 成交股數, 開盤價, 最高價, 最低價, 收盤價)\n",
        "VALUES (?, ?, ?, ?, ?, ?, ?);\n",
        "'''\n",
        "\n",
        "con = lite.connect(\"台股資料.db\") #開啟資料庫連結\n",
        "cur = con.cursor() #取得資料庫執行游標\n",
        "cur.executemany(sql, df.values.tolist()) #執行sql語法\n",
        "con.commit()#確認寫入, 當資料庫有新增、修改、刪除資料庫任何一個動作，皆要執行確認寫入\n",
        "cur.close() #關閉游標\n",
        "con.close() #關閉資料庫連結"
      ]
    },
    {
      "cell_type": "code",
      "execution_count": null,
      "id": "a9beb316-3fe8-491c-9ac9-fcd68d04ca2d",
      "metadata": {
        "id": "a9beb316-3fe8-491c-9ac9-fcd68d04ca2d",
        "outputId": "7dddc92b-87e1-4ca3-ea09-91cc7b1687d3"
      },
      "outputs": [
        {
          "data": {
            "text/html": [
              "<div>\n",
              "<style scoped>\n",
              "    .dataframe tbody tr th:only-of-type {\n",
              "        vertical-align: middle;\n",
              "    }\n",
              "\n",
              "    .dataframe tbody tr th {\n",
              "        vertical-align: top;\n",
              "    }\n",
              "\n",
              "    .dataframe thead th {\n",
              "        text-align: right;\n",
              "    }\n",
              "</style>\n",
              "<table border=\"1\" class=\"dataframe\">\n",
              "  <thead>\n",
              "    <tr style=\"text-align: right;\">\n",
              "      <th></th>\n",
              "      <th>日期</th>\n",
              "      <th>證券代號</th>\n",
              "      <th>成交股數</th>\n",
              "      <th>開盤價</th>\n",
              "      <th>最高價</th>\n",
              "      <th>最低價</th>\n",
              "      <th>收盤價</th>\n",
              "    </tr>\n",
              "  </thead>\n",
              "  <tbody>\n",
              "    <tr>\n",
              "      <th>0</th>\n",
              "      <td>20250314</td>\n",
              "      <td>0050</td>\n",
              "      <td>14434475</td>\n",
              "      <td>181.10</td>\n",
              "      <td>181.15</td>\n",
              "      <td>179.55</td>\n",
              "      <td>180.50</td>\n",
              "    </tr>\n",
              "    <tr>\n",
              "      <th>1</th>\n",
              "      <td>20250314</td>\n",
              "      <td>0051</td>\n",
              "      <td>41374</td>\n",
              "      <td>76.25</td>\n",
              "      <td>76.50</td>\n",
              "      <td>76.10</td>\n",
              "      <td>76.30</td>\n",
              "    </tr>\n",
              "    <tr>\n",
              "      <th>2</th>\n",
              "      <td>20250314</td>\n",
              "      <td>0052</td>\n",
              "      <td>463826</td>\n",
              "      <td>178.50</td>\n",
              "      <td>179.20</td>\n",
              "      <td>177.10</td>\n",
              "      <td>178.10</td>\n",
              "    </tr>\n",
              "    <tr>\n",
              "      <th>3</th>\n",
              "      <td>20250314</td>\n",
              "      <td>0053</td>\n",
              "      <td>10340</td>\n",
              "      <td>96.55</td>\n",
              "      <td>96.55</td>\n",
              "      <td>95.55</td>\n",
              "      <td>96.35</td>\n",
              "    </tr>\n",
              "    <tr>\n",
              "      <th>4</th>\n",
              "      <td>20250314</td>\n",
              "      <td>0055</td>\n",
              "      <td>56090</td>\n",
              "      <td>28.48</td>\n",
              "      <td>28.62</td>\n",
              "      <td>28.48</td>\n",
              "      <td>28.49</td>\n",
              "    </tr>\n",
              "    <tr>\n",
              "      <th>...</th>\n",
              "      <td>...</td>\n",
              "      <td>...</td>\n",
              "      <td>...</td>\n",
              "      <td>...</td>\n",
              "      <td>...</td>\n",
              "      <td>...</td>\n",
              "      <td>...</td>\n",
              "    </tr>\n",
              "    <tr>\n",
              "      <th>1281</th>\n",
              "      <td>20250314</td>\n",
              "      <td>9944</td>\n",
              "      <td>80194</td>\n",
              "      <td>20.00</td>\n",
              "      <td>20.10</td>\n",
              "      <td>19.95</td>\n",
              "      <td>20.10</td>\n",
              "    </tr>\n",
              "    <tr>\n",
              "      <th>1282</th>\n",
              "      <td>20250314</td>\n",
              "      <td>9945</td>\n",
              "      <td>21004707</td>\n",
              "      <td>38.75</td>\n",
              "      <td>38.80</td>\n",
              "      <td>37.90</td>\n",
              "      <td>38.00</td>\n",
              "    </tr>\n",
              "    <tr>\n",
              "      <th>1283</th>\n",
              "      <td>20250314</td>\n",
              "      <td>9946</td>\n",
              "      <td>651464</td>\n",
              "      <td>24.80</td>\n",
              "      <td>24.95</td>\n",
              "      <td>24.70</td>\n",
              "      <td>24.90</td>\n",
              "    </tr>\n",
              "    <tr>\n",
              "      <th>1284</th>\n",
              "      <td>20250314</td>\n",
              "      <td>9955</td>\n",
              "      <td>1475199</td>\n",
              "      <td>31.05</td>\n",
              "      <td>31.30</td>\n",
              "      <td>30.30</td>\n",
              "      <td>30.65</td>\n",
              "    </tr>\n",
              "    <tr>\n",
              "      <th>1285</th>\n",
              "      <td>20250314</td>\n",
              "      <td>9958</td>\n",
              "      <td>2312958</td>\n",
              "      <td>186.50</td>\n",
              "      <td>189.50</td>\n",
              "      <td>184.50</td>\n",
              "      <td>187.00</td>\n",
              "    </tr>\n",
              "  </tbody>\n",
              "</table>\n",
              "<p>1286 rows × 7 columns</p>\n",
              "</div>"
            ],
            "text/plain": [
              "            日期  證券代號      成交股數     開盤價     最高價     最低價     收盤價\n",
              "0     20250314  0050  14434475  181.10  181.15  179.55  180.50\n",
              "1     20250314  0051     41374   76.25   76.50   76.10   76.30\n",
              "2     20250314  0052    463826  178.50  179.20  177.10  178.10\n",
              "3     20250314  0053     10340   96.55   96.55   95.55   96.35\n",
              "4     20250314  0055     56090   28.48   28.62   28.48   28.49\n",
              "...        ...   ...       ...     ...     ...     ...     ...\n",
              "1281  20250314  9944     80194   20.00   20.10   19.95   20.10\n",
              "1282  20250314  9945  21004707   38.75   38.80   37.90   38.00\n",
              "1283  20250314  9946    651464   24.80   24.95   24.70   24.90\n",
              "1284  20250314  9955   1475199   31.05   31.30   30.30   30.65\n",
              "1285  20250314  9958   2312958  186.50  189.50  184.50  187.00\n",
              "\n",
              "[1286 rows x 7 columns]"
            ]
          },
          "execution_count": 21,
          "metadata": {},
          "output_type": "execute_result"
        }
      ],
      "source": [
        "import sqlite3 as lite\n",
        "sql = '''\n",
        "SELECT * FROM 每日收盤行情;\n",
        "'''\n",
        "\n",
        "con = lite.connect(\"台股資料.db\") #開啟資料庫連結\n",
        "cur = con.cursor() #取得資料庫執行游標\n",
        "cur.execute(sql) #執行sql語法\n",
        "rows = cur.fetchall() #取得全部資料\n",
        "header = [item[0] for item in cur.description] #取得資料表標題\n",
        "cur.close() #關閉游標\n",
        "con.close() #關閉資料庫連結\n",
        "df1 = pd.DataFrame(rows, columns = header)\n",
        "df1"
      ]
    },
    {
      "cell_type": "code",
      "execution_count": null,
      "id": "ad873714-f2bc-4da5-9965-e027eaf57157",
      "metadata": {
        "id": "ad873714-f2bc-4da5-9965-e027eaf57157",
        "outputId": "3e010b5b-457a-48fb-aa69-0a28fc6fc892"
      },
      "outputs": [
        {
          "data": {
            "text/plain": [
              "'C:\\\\Users\\\\USER\\\\Desktop\\\\157102_python金融資料庫'"
            ]
          },
          "execution_count": 16,
          "metadata": {},
          "output_type": "execute_result"
        }
      ],
      "source": [
        "%pwd"
      ]
    },
    {
      "cell_type": "code",
      "execution_count": null,
      "id": "f6dba111-25b2-445e-b334-3e2c6f12d8ba",
      "metadata": {
        "id": "f6dba111-25b2-445e-b334-3e2c6f12d8ba",
        "outputId": "9daf8089-83f1-40ca-965a-7c6b271bdaca"
      },
      "outputs": [
        {
          "data": {
            "text/plain": [
              "(datetime.datetime(2025, 3, 15, 11, 16, 34, 339950),\n",
              " datetime.datetime(2025, 3, 15, 11, 16, 34, 339949))"
            ]
          },
          "execution_count": 23,
          "metadata": {},
          "output_type": "execute_result"
        }
      ],
      "source": [
        "import datetime as dt\n",
        "dt.datetime.today(), dt.datetime.now()"
      ]
    },
    {
      "cell_type": "code",
      "execution_count": null,
      "id": "5f77d47f-fc4b-4275-bb21-c15888ac0685",
      "metadata": {
        "id": "5f77d47f-fc4b-4275-bb21-c15888ac0685",
        "outputId": "16ebd49a-0ebb-48c1-80eb-a567d407272f"
      },
      "outputs": [
        {
          "data": {
            "text/plain": [
              "datetime.datetime(2025, 3, 10, 11, 17, 39, 85325)"
            ]
          },
          "execution_count": 26,
          "metadata": {},
          "output_type": "execute_result"
        }
      ],
      "source": [
        "#日期時間計算\n",
        "dt.datetime.today() - dt.timedelta(days = 5)"
      ]
    },
    {
      "cell_type": "code",
      "execution_count": null,
      "id": "f923e160-8552-40e5-a36a-4a8fc0b614cb",
      "metadata": {
        "id": "f923e160-8552-40e5-a36a-4a8fc0b614cb",
        "outputId": "0d1c0f3a-3855-4a61-a46d-950b5c108258"
      },
      "outputs": [
        {
          "name": "stdout",
          "output_type": "stream",
          "text": [
            "20250310\n",
            "20250311\n",
            "20250312\n",
            "20250313\n",
            "20250314\n"
          ]
        }
      ],
      "source": [
        "base = dt.datetime.today() - dt.timedelta(days = 5) #取得指定日期基準日\n",
        "while base < dt.datetime.today(): #時間比較\n",
        "    print(base.strftime(\"%Y%m%d\"))\n",
        "    base += dt.timedelta(days = 1) #日期累加"
      ]
    },
    {
      "cell_type": "code",
      "execution_count": null,
      "id": "908f1054-3372-4680-9e2a-d63a95aa8526",
      "metadata": {
        "id": "908f1054-3372-4680-9e2a-d63a95aa8526",
        "outputId": "c1a9f8ee-bc46-4027-d097-283ccc6f804a"
      },
      "outputs": [
        {
          "name": "stdout",
          "output_type": "stream",
          "text": [
            "00:00\n"
          ]
        }
      ],
      "source": [
        "t = 10\n",
        "while t > -1:\n",
        "    min, sec = divmod(t, 60)\n",
        "    if t > 0:\n",
        "        print(f\"{min:02d}:{sec:02d}\", end = '\\r')\n",
        "    if t == 0:\n",
        "        print(f\"{min:02d}:{sec:02d}\", end = '\\n')\n",
        "    t -= 1\n",
        "    time.sleep(1)"
      ]
    },
    {
      "cell_type": "code",
      "execution_count": null,
      "id": "4e449544-ce11-44e6-83ee-8af2a6c33af2",
      "metadata": {
        "id": "4e449544-ce11-44e6-83ee-8af2a6c33af2",
        "outputId": "1129bf27-2d36-4e75-a0c1-c6f3b0841ca2"
      },
      "outputs": [
        {
          "data": {
            "text/plain": [
              "\"\\nINSERT INTO 每日收盤行情 ('日期', '證券代號', '成交股數', '開盤價', '最高價', '最低價', '收盤價') \\nVALUES (?,?,?,?,?,?,?);\\n\""
            ]
          },
          "execution_count": 69,
          "metadata": {},
          "output_type": "execute_result"
        }
      ],
      "source": [
        "sql = '''\n",
        "INSERT INTO {} {}\n",
        "VALUES ({});\n",
        "'''\n",
        "sql.format('每日收盤行情', tuple(df.columns.tolist()), ','.join('?'*len(df.columns)))"
      ]
    },
    {
      "cell_type": "code",
      "execution_count": null,
      "id": "5e12a9e2-dc2a-4b05-a137-77fbbc0f99e0",
      "metadata": {
        "id": "5e12a9e2-dc2a-4b05-a137-77fbbc0f99e0",
        "outputId": "774ac8e8-1385-41f7-9ddb-f04ee512ac7a"
      },
      "outputs": [
        {
          "data": {
            "text/plain": [
              "Index(['日期', '證券代號', '成交股數', '開盤價', '最高價', '最低價', '收盤價'], dtype='object')"
            ]
          },
          "execution_count": 7,
          "metadata": {},
          "output_type": "execute_result"
        }
      ],
      "source": [
        "df.columns"
      ]
    },
    {
      "cell_type": "code",
      "execution_count": null,
      "id": "de85b0ca-f967-44d8-ba09-9f6a5b3e732c",
      "metadata": {
        "id": "de85b0ca-f967-44d8-ba09-9f6a5b3e732c",
        "outputId": "68cd13db-f595-4aeb-ff5c-5206b8cd7426"
      },
      "outputs": [
        {
          "data": {
            "text/plain": [
              "['日期 TEXT',\n",
              " '證券代號 TEXT',\n",
              " '成交股數 TEXT',\n",
              " '開盤價 TEXT',\n",
              " '最高價 TEXT',\n",
              " '最低價 TEXT',\n",
              " '收盤價 TEXT']"
            ]
          },
          "execution_count": 9,
          "metadata": {},
          "output_type": "execute_result"
        }
      ],
      "source": [
        "[f'{item} TEXT' for item in df.columns]"
      ]
    },
    {
      "cell_type": "code",
      "execution_count": null,
      "id": "b5db32ec-0ff3-4ce6-a246-a29822528755",
      "metadata": {
        "id": "b5db32ec-0ff3-4ce6-a246-a29822528755",
        "outputId": "3420c15f-58b6-45b2-815c-4271ecdca982"
      },
      "outputs": [
        {
          "data": {
            "text/plain": [
              "'\\nCREATE TABLE IF NOT EXISTS 每日收盤行情 (\\n    日期 TEXT,證券代號 TEXT,成交股數 TEXT,開盤價 TEXT,最高價 TEXT,最低價 TEXT,收盤價 TEXT,\\n    PRIMARY KEY(日期,證券代號)\\n);\\n'"
            ]
          },
          "execution_count": 13,
          "metadata": {},
          "output_type": "execute_result"
        }
      ],
      "source": [
        "sql = '''\n",
        "CREATE TABLE IF NOT EXISTS {} (\n",
        "    {},\n",
        "    PRIMARY KEY({})\n",
        ");\n",
        "'''\n",
        "sql.format('每日收盤行情',\n",
        "           ','.join(['{} TEXT'.format(item) for item in df.columns]),\n",
        "           ','.join(['日期', '證券代號']))"
      ]
    },
    {
      "cell_type": "code",
      "execution_count": null,
      "id": "1c7026f7-2270-4686-bff6-190b659615c5",
      "metadata": {
        "id": "1c7026f7-2270-4686-bff6-190b659615c5",
        "outputId": "b7429d8b-0518-4bd5-b1a5-f6b12932263b"
      },
      "outputs": [
        {
          "ename": "NameError",
          "evalue": "name 'dt' is not defined",
          "output_type": "error",
          "traceback": [
            "\u001b[1;31m---------------------------------------------------------------------------\u001b[0m",
            "\u001b[1;31mNameError\u001b[0m                                 Traceback (most recent call last)",
            "Cell \u001b[1;32mIn[25], line 95\u001b[0m\n\u001b[0;32m     92\u001b[0m         \u001b[38;5;28;01mreturn\u001b[39;00m pd\u001b[38;5;241m.\u001b[39mDataFrame() \u001b[38;5;66;03m#沒資料時回傳空的表格\u001b[39;00m\n\u001b[0;32m     94\u001b[0m data \u001b[38;5;241m=\u001b[39m []\n\u001b[1;32m---> 95\u001b[0m base \u001b[38;5;241m=\u001b[39m dt\u001b[38;5;241m.\u001b[39mdatetime\u001b[38;5;241m.\u001b[39mtoday() \u001b[38;5;241m-\u001b[39m dt\u001b[38;5;241m.\u001b[39mtimedelta(days \u001b[38;5;241m=\u001b[39m \u001b[38;5;241m5\u001b[39m) \u001b[38;5;66;03m#取得指定日期基準日\u001b[39;00m\n\u001b[0;32m     96\u001b[0m \u001b[38;5;28;01mwhile\u001b[39;00m base \u001b[38;5;241m<\u001b[39m dt\u001b[38;5;241m.\u001b[39mdatetime\u001b[38;5;241m.\u001b[39mtoday(): \u001b[38;5;66;03m#時間比較\u001b[39;00m\n\u001b[0;32m     97\u001b[0m     date \u001b[38;5;241m=\u001b[39m base\u001b[38;5;241m.\u001b[39mstrftime(\u001b[38;5;124m\"\u001b[39m\u001b[38;5;124m%\u001b[39m\u001b[38;5;124mY\u001b[39m\u001b[38;5;124m%\u001b[39m\u001b[38;5;124mm\u001b[39m\u001b[38;5;132;01m%d\u001b[39;00m\u001b[38;5;124m\"\u001b[39m)\n",
            "\u001b[1;31mNameError\u001b[0m: name 'dt' is not defined"
          ]
        }
      ],
      "source": [
        "import requests\n",
        "import pandas as pd\n",
        "import json\n",
        "import time\n",
        "import sqlite3 as lite\n",
        "\n",
        "class operateDB():\n",
        "    def __init__(self, dbname, tablename, dbcolumns = None, primarykey = None):\n",
        "        self.dbname = dbname\n",
        "        self.tablename = tablename\n",
        "        self.dbcolumns = dbcolumns\n",
        "        self.primarykey = primarykey\n",
        "\n",
        "    def rundb(self, sql, data = None, readdata = False):\n",
        "        print(sql)\n",
        "        con = lite.connect(self.dbname) #開啟資料庫連結\n",
        "        cur = con.cursor() #取得資料庫執行游標\n",
        "\n",
        "        if data == None:\n",
        "            cur.execute(sql)\n",
        "        else:\n",
        "            cur.executemany(sql, data) #執行sql語法\n",
        "        if not readdata:\n",
        "            con.commit()#確認寫入, 當資料庫有新增、修改、刪除資料庫任何一個動作，皆要執行確認寫入\n",
        "        else:\n",
        "            rows = cur.fetchall()\n",
        "            header = [item[0] for item in cur.description]\n",
        "            df = pd.DataFrame(rows, columns = header)\n",
        "\n",
        "        cur.close() #關閉游標\n",
        "        con.close() #關閉資料庫連結\n",
        "\n",
        "        if readdata:\n",
        "            return df\n",
        "        else:\n",
        "            return pd.DataFrame()\n",
        "\n",
        "    def createtable(self):\n",
        "        sql = '''\n",
        "        CREATE TABLE IF NOT EXISTS {} (\n",
        "            {},\n",
        "            PRIMARY KEY({})\n",
        "        );\n",
        "        '''\n",
        "        sql = sql.format(self.tablename,\n",
        "                           ','.join(['{} TEXT'.format(item) for item in self.dbcolumns]),\n",
        "                           ','.join(self.primarykey))\n",
        "        #print(sql)\n",
        "        self.rundb(sql)\n",
        "\n",
        "    def insertdata(self, df):\n",
        "        self.createtable()\n",
        "        sql = '''\n",
        "        INSERT OR REPLACE INTO {} {}\n",
        "        VALUES ({});\n",
        "        '''\n",
        "        sql = sql.format(self.tablename,\n",
        "                         tuple(self.dbcolumns),\n",
        "                         ','.join('?'*len(self.dbcolumns)))\n",
        "        self.rundb(sql, df.values.tolist())\n",
        "\n",
        "\n",
        "def countdown(t):\n",
        "    while t > -1:\n",
        "        min, sec = divmod(t, 60)\n",
        "        if t > 0:\n",
        "            print(f\"{min:02d}:{sec:02d}\", end = '\\r')\n",
        "        if t == 0:\n",
        "            print(f\"{min:02d}:{sec:02d}\", end = '\\n')\n",
        "        t -= 1\n",
        "        time.sleep(1)\n",
        "\n",
        "def quote(date):\n",
        "    url = \"https://www.twse.com.tw/rwd/zh/afterTrading/MI_INDEX\"\n",
        "    payload = {\n",
        "        \"date\": date,\n",
        "        \"type\": \"ALLBUT0999\",\n",
        "        \"response\": \"json\"\n",
        "    }\n",
        "    res = requests.get(url, params = payload)\n",
        "    jd = json.loads(res.text) #json.loads()將json字串轉成 python dict\n",
        "    if jd['stat'].lower() == \"ok\": #確認交易日有資料\n",
        "        df = pd.DataFrame(jd['tables'][8]['data'], columns = jd['tables'][8]['fields'])\n",
        "        df = df[['證券代號', '成交股數', '開盤價', '最高價', '最低價', '收盤價']] #挑選需要的欄位\n",
        "        df = df.apply(lambda x : x.str.replace(\",\", \"\")) #將逗號刪除\n",
        "        df.insert(0, \"日期\", date) #增加日期欄位\n",
        "        return df #有資料時回傳\n",
        "    else:\n",
        "        return pd.DataFrame() #沒資料時回傳空的表格\n",
        "\n",
        "data = []\n",
        "base = dt.datetime.today() - dt.timedelta(days = 5) #取得指定日期基準日\n",
        "while base < dt.datetime.today(): #時間比較\n",
        "    date = base.strftime(\"%Y%m%d\")\n",
        "    print(date)\n",
        "    df0 = quote(date)\n",
        "    if not df0.empty: #留下有資料\n",
        "        data.append(df0) #帶入日期取得當天交易日的行情資料\n",
        "    countdown(10) #每次抓取資料後，暫停10秒\n",
        "    base += dt.timedelta(days = 1) #日期累加\n",
        "df = pd.concat(data, ignore_index = True)\n",
        "df"
      ]
    },
    {
      "cell_type": "code",
      "execution_count": null,
      "id": "bdada52d-f64a-4b45-b5ae-7d34d261739d",
      "metadata": {
        "id": "bdada52d-f64a-4b45-b5ae-7d34d261739d",
        "outputId": "72104f0b-a00c-46c2-e3b3-85668431d6db"
      },
      "outputs": [
        {
          "data": {
            "text/plain": [
              "['日期', '證券代號', '成交股數', '開盤價', '最高價', '最低價', '收盤價']"
            ]
          },
          "execution_count": 60,
          "metadata": {},
          "output_type": "execute_result"
        }
      ],
      "source": [
        "df.columns.tolist()"
      ]
    },
    {
      "cell_type": "code",
      "execution_count": null,
      "id": "f17b0a13-4f9f-44f2-98c2-535348218afa",
      "metadata": {
        "id": "f17b0a13-4f9f-44f2-98c2-535348218afa",
        "outputId": "ecf506bc-dd57-41e2-b0e5-0810546e01d8"
      },
      "outputs": [
        {
          "name": "stdout",
          "output_type": "stream",
          "text": [
            "\n",
            "        CREATE TABLE IF NOT EXISTS 每日收盤行情 (\n",
            "            日期 TEXT,證券代號 TEXT,成交股數 TEXT,開盤價 TEXT,最高價 TEXT,最低價 TEXT,收盤價 TEXT,\n",
            "            PRIMARY KEY(日期,證券代號)\n",
            "        );\n",
            "        \n",
            "\n",
            "        INSERT OR REPLACE INTO 每日收盤行情 ('日期', '證券代號', '成交股數', '開盤價', '最高價', '最低價', '收盤價') \n",
            "        VALUES (?,?,?,?,?,?,?);\n",
            "        \n"
          ]
        },
        {
          "ename": "OperationalError",
          "evalue": "database is locked",
          "output_type": "error",
          "traceback": [
            "\u001b[1;31m---------------------------------------------------------------------------\u001b[0m",
            "\u001b[1;31mOperationalError\u001b[0m                          Traceback (most recent call last)",
            "Cell \u001b[1;32mIn[27], line 60\u001b[0m\n\u001b[0;32m     55\u001b[0m         \u001b[38;5;28mself\u001b[39m\u001b[38;5;241m.\u001b[39mrundb(sql, df\u001b[38;5;241m.\u001b[39mvalues\u001b[38;5;241m.\u001b[39mtolist())\n\u001b[0;32m     59\u001b[0m db \u001b[38;5;241m=\u001b[39m operateDB(\u001b[38;5;124m\"\u001b[39m\u001b[38;5;124m台股資料.db\u001b[39m\u001b[38;5;124m\"\u001b[39m, \u001b[38;5;124m\"\u001b[39m\u001b[38;5;124m每日收盤行情\u001b[39m\u001b[38;5;124m\"\u001b[39m, df\u001b[38;5;241m.\u001b[39mcolumns\u001b[38;5;241m.\u001b[39mtolist(), [\u001b[38;5;124m'\u001b[39m\u001b[38;5;124m日期\u001b[39m\u001b[38;5;124m'\u001b[39m, \u001b[38;5;124m'\u001b[39m\u001b[38;5;124m證券代號\u001b[39m\u001b[38;5;124m'\u001b[39m])\n\u001b[1;32m---> 60\u001b[0m db\u001b[38;5;241m.\u001b[39minsertdata(df)\n",
            "Cell \u001b[1;32mIn[27], line 55\u001b[0m, in \u001b[0;36moperateDB.insertdata\u001b[1;34m(self, df)\u001b[0m\n\u001b[0;32m     48\u001b[0m sql \u001b[38;5;241m=\u001b[39m \u001b[38;5;124m'''\u001b[39m\n\u001b[0;32m     49\u001b[0m \u001b[38;5;124mINSERT OR REPLACE INTO \u001b[39m\u001b[38;5;132;01m{}\u001b[39;00m\u001b[38;5;124m \u001b[39m\u001b[38;5;132;01m{}\u001b[39;00m\u001b[38;5;124m \u001b[39m\n\u001b[0;32m     50\u001b[0m \u001b[38;5;124mVALUES (\u001b[39m\u001b[38;5;132;01m{}\u001b[39;00m\u001b[38;5;124m);\u001b[39m\n\u001b[0;32m     51\u001b[0m \u001b[38;5;124m\u001b[39m\u001b[38;5;124m'''\u001b[39m\n\u001b[0;32m     52\u001b[0m sql \u001b[38;5;241m=\u001b[39m sql\u001b[38;5;241m.\u001b[39mformat(\u001b[38;5;28mself\u001b[39m\u001b[38;5;241m.\u001b[39mtablename,\n\u001b[0;32m     53\u001b[0m                  \u001b[38;5;28mtuple\u001b[39m(\u001b[38;5;28mself\u001b[39m\u001b[38;5;241m.\u001b[39mdbcolumns), \n\u001b[0;32m     54\u001b[0m                  \u001b[38;5;124m'\u001b[39m\u001b[38;5;124m,\u001b[39m\u001b[38;5;124m'\u001b[39m\u001b[38;5;241m.\u001b[39mjoin(\u001b[38;5;124m'\u001b[39m\u001b[38;5;124m?\u001b[39m\u001b[38;5;124m'\u001b[39m\u001b[38;5;241m*\u001b[39m\u001b[38;5;28mlen\u001b[39m(\u001b[38;5;28mself\u001b[39m\u001b[38;5;241m.\u001b[39mdbcolumns)))\n\u001b[1;32m---> 55\u001b[0m \u001b[38;5;28mself\u001b[39m\u001b[38;5;241m.\u001b[39mrundb(sql, df\u001b[38;5;241m.\u001b[39mvalues\u001b[38;5;241m.\u001b[39mtolist())\n",
            "Cell \u001b[1;32mIn[27], line 17\u001b[0m, in \u001b[0;36moperateDB.rundb\u001b[1;34m(self, sql, data, readdata)\u001b[0m\n\u001b[0;32m     15\u001b[0m     cur\u001b[38;5;241m.\u001b[39mexecute(sql)\n\u001b[0;32m     16\u001b[0m \u001b[38;5;28;01melse\u001b[39;00m:\n\u001b[1;32m---> 17\u001b[0m     cur\u001b[38;5;241m.\u001b[39mexecutemany(sql, data) \u001b[38;5;66;03m#執行sql語法\u001b[39;00m\n\u001b[0;32m     18\u001b[0m \u001b[38;5;28;01mif\u001b[39;00m \u001b[38;5;129;01mnot\u001b[39;00m readdata:\n\u001b[0;32m     19\u001b[0m     con\u001b[38;5;241m.\u001b[39mcommit()\u001b[38;5;66;03m#確認寫入, 當資料庫有新增、修改、刪除資料庫任何一個動作，皆要執行確認寫入\u001b[39;00m\n",
            "\u001b[1;31mOperationalError\u001b[0m: database is locked"
          ]
        }
      ],
      "source": [
        "import sqlite3 as lite\n",
        "class operateDB():\n",
        "    def __init__(self, dbname, tablename, dbcolumns = None, primarykey = None):\n",
        "        self.dbname = dbname\n",
        "        self.tablename = tablename\n",
        "        self.dbcolumns = dbcolumns\n",
        "        self.primarykey = primarykey\n",
        "\n",
        "    def rundb(self, sql, data = None, readdata = False):\n",
        "        print(sql)\n",
        "        con = lite.connect(self.dbname) #開啟資料庫連結\n",
        "        cur = con.cursor() #取得資料庫執行游標\n",
        "\n",
        "        if data == None:\n",
        "            cur.execute(sql)\n",
        "        else:\n",
        "            cur.executemany(sql, data) #執行sql語法\n",
        "        if not readdata:\n",
        "            con.commit()#確認寫入, 當資料庫有新增、修改、刪除資料庫任何一個動作，皆要執行確認寫入\n",
        "        else:\n",
        "            rows = cur.fetchall()\n",
        "            header = [item[0] for item in cur.description]\n",
        "            df = pd.DataFrame(rows, columns = header)\n",
        "\n",
        "        cur.close() #關閉游標\n",
        "        con.close() #關閉資料庫連結\n",
        "\n",
        "        if readdata:\n",
        "            return df\n",
        "        else:\n",
        "            return pd.DataFrame()\n",
        "\n",
        "    def createtable(self):\n",
        "        sql = '''\n",
        "        CREATE TABLE IF NOT EXISTS {} (\n",
        "            {},\n",
        "            PRIMARY KEY({})\n",
        "        );\n",
        "        '''\n",
        "        sql = sql.format(self.tablename,\n",
        "                           ','.join(['{} TEXT'.format(item) for item in self.dbcolumns]),\n",
        "                           ','.join(self.primarykey))\n",
        "        #print(sql)\n",
        "        self.rundb(sql)\n",
        "\n",
        "    def insertdata(self, df):\n",
        "        self.createtable()\n",
        "        sql = '''\n",
        "        INSERT OR REPLACE INTO {} {}\n",
        "        VALUES ({});\n",
        "        '''\n",
        "        sql = sql.format(self.tablename,\n",
        "                         tuple(self.dbcolumns),\n",
        "                         ','.join('?'*len(self.dbcolumns)))\n",
        "        self.rundb(sql, df.values.tolist())\n",
        "\n",
        "\n",
        "\n",
        "db = operateDB(\"台股資料.db\", \"每日收盤行情\", df.columns.tolist(), ['日期', '證券代號'])\n",
        "db.insertdata(df)"
      ]
    },
    {
      "cell_type": "code",
      "execution_count": null,
      "id": "dbd5d4df-de40-4e18-bd36-650b5c3f17ed",
      "metadata": {
        "id": "dbd5d4df-de40-4e18-bd36-650b5c3f17ed",
        "outputId": "a2db2067-8589-4b48-b89a-5c3725090c86"
      },
      "outputs": [
        {
          "data": {
            "text/plain": [
              "Index(['日期', '證券代號', '成交股數', '開盤價', '最高價', '最低價', '收盤價'], dtype='object')"
            ]
          },
          "execution_count": 23,
          "metadata": {},
          "output_type": "execute_result"
        }
      ],
      "source": [
        "df.columns"
      ]
    },
    {
      "cell_type": "code",
      "execution_count": null,
      "id": "ce3bbe7b-14ab-4e5b-85f7-c171a05381db",
      "metadata": {
        "id": "ce3bbe7b-14ab-4e5b-85f7-c171a05381db"
      },
      "outputs": [],
      "source": []
    }
  ],
  "metadata": {
    "kernelspec": {
      "display_name": "Python 3 (ipykernel)",
      "language": "python",
      "name": "python3"
    },
    "language_info": {
      "codemirror_mode": {
        "name": "ipython",
        "version": 3
      },
      "file_extension": ".py",
      "mimetype": "text/x-python",
      "name": "python",
      "nbconvert_exporter": "python",
      "pygments_lexer": "ipython3",
      "version": "3.12.7"
    },
    "colab": {
      "provenance": [],
      "include_colab_link": true
    }
  },
  "nbformat": 4,
  "nbformat_minor": 5
}
